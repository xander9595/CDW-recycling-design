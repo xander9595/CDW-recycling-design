{
 "cells": [
  {
   "cell_type": "code",
   "execution_count": 11,
   "id": "1e2307b5",
   "metadata": {},
   "outputs": [],
   "source": [
    "import numpy as np\n",
    "rnd = np.random\n",
    "rnd.seed(0)"
   ]
  },
  {
   "cell_type": "code",
   "execution_count": 12,
   "id": "f4910dd7",
   "metadata": {},
   "outputs": [],
   "source": [
    "k=3 #number of construction sites\n",
    "f=5 #number of disposal facilities\n",
    "C_site = [i for i in range(1, k+1)] #construction sites\n",
    "D_fac = [i for i in range(k+1, k+f+1)] # disposal facilities\n",
    "V=[0]+C_site+D_fac\n",
    "Q = {i: rnd.randint(1, 10) for i in C_site} # CDW quantities\n",
    "F_type=[1,2,3,4] #facilities types\n",
    "C = {i: 2*i+1 for i in F_type} # disposal costs per unit\n",
    "S = {(i,j): 10*j for i in D_fac for j in F_type } # building cost of disposal facilities\n",
    "T = {(i,j): rnd.randint(0,2) for i in C_site for j in F_type}\n",
    "T[1,1]=0\n",
    "T[1,2]=0\n",
    "T[1,3]=1\n",
    "T[2,1]=0"
   ]
  },
  {
   "cell_type": "code",
   "execution_count": 13,
   "id": "3df5346a",
   "metadata": {},
   "outputs": [
    {
     "data": {
      "text/plain": [
       "{(1, 1): 0,\n",
       " (1, 2): 0,\n",
       " (1, 3): 1,\n",
       " (1, 4): 1,\n",
       " (2, 1): 0,\n",
       " (2, 2): 1,\n",
       " (2, 3): 0,\n",
       " (2, 4): 0,\n",
       " (3, 1): 1,\n",
       " (3, 2): 0,\n",
       " (3, 3): 0,\n",
       " (3, 4): 0}"
      ]
     },
     "execution_count": 13,
     "metadata": {},
     "output_type": "execute_result"
    }
   ],
   "source": [
    "T"
   ]
  },
  {
   "cell_type": "code",
   "execution_count": 14,
   "id": "18075578",
   "metadata": {},
   "outputs": [],
   "source": [
    "# randomly generate the position\n",
    "loc_x = rnd.rand(len(V))*200 \n",
    "loc_y = rnd.rand(len(V))*100"
   ]
  },
  {
   "cell_type": "code",
   "execution_count": 15,
   "id": "2b7f190e",
   "metadata": {},
   "outputs": [
    {
     "data": {
      "text/plain": [
       "array([ 54.53125892,  95.53302346, 162.43374576,  95.99543448,\n",
       "        78.55695922, 167.21575271,  67.47923208, 129.63437441,\n",
       "        73.64830797])"
      ]
     },
     "execution_count": 15,
     "metadata": {},
     "output_type": "execute_result"
    }
   ],
   "source": [
    "loc_x"
   ]
  },
  {
   "cell_type": "code",
   "execution_count": 16,
   "id": "fbdf9bf8",
   "metadata": {},
   "outputs": [
    {
     "data": {
      "text/plain": [
       "(62.49240605225259, 172.2025787386766, 10.38639565153556, 90.6574082255726)"
      ]
     },
     "execution_count": 16,
     "metadata": {},
     "output_type": "execute_result"
    },
    {
     "data": {
      "image/png": "[encoded data removed]",
      "text/plain": [
       "<Figure size 432x288 with 1 Axes>"
      ]
     },
     "metadata": {
      "needs_background": "light"
     },
     "output_type": "display_data"
    }
   ],
   "source": [
    "import matplotlib.pyplot as plt\n",
    "plt.scatter(loc_x[1:k+1], loc_y[1:k+1], c='b')\n",
    "plt.scatter(loc_x[k+1:k+1+f], loc_y[k+1:k+1+f], c='r')\n",
    "for i in C_site:\n",
    "    plt.annotate('$Q_%d=%d$' % (i, Q[i]), (loc_x[i]+2, loc_y[i]))\n",
    "plt.axis('equal')"
   ]
  },
  {
   "cell_type": "code",
   "execution_count": 17,
   "id": "18ae5649",
   "metadata": {},
   "outputs": [],
   "source": [
    "A = [(i, j) for i in C_site for j in D_fac]\n",
    "F = [(i, j) for i in D_fac for j in F_type]\n",
    "\n",
    "U = [(i, j, k) for i in C_site for j in D_fac for k in F_type]\n",
    "D = {(i, j): np.hypot(loc_x[i]-loc_x[j], loc_y[i]-loc_y[j]) for i, j in A}"
   ]
  },
  {
   "cell_type": "code",
   "execution_count": 18,
   "id": "d7390c3b",
   "metadata": {},
   "outputs": [],
   "source": [
    "#U"
   ]
  },
  {
   "cell_type": "code",
   "execution_count": 19,
   "id": "188df97c",
   "metadata": {},
   "outputs": [],
   "source": [
    "#D[1,4]"
   ]
  },
  {
   "cell_type": "code",
   "execution_count": 20,
   "id": "208cedb4",
   "metadata": {},
   "outputs": [],
   "source": [
    "from docplex.mp.model import Model"
   ]
  },
  {
   "cell_type": "code",
   "execution_count": 21,
   "id": "0e7d01ac",
   "metadata": {},
   "outputs": [],
   "source": [
    "mdl = Model('CDW')"
   ]
  },
  {
   "cell_type": "code",
   "execution_count": 22,
   "id": "367c0e74",
   "metadata": {},
   "outputs": [],
   "source": [
    "z = mdl.binary_var_dict(A, name='z') # "
   ]
  },
  {
   "cell_type": "code",
   "execution_count": 23,
   "id": "63085943",
   "metadata": {},
   "outputs": [],
   "source": [
    "fac = mdl.binary_var_dict(F, name='fac')"
   ]
  },
  {
   "cell_type": "code",
   "execution_count": 24,
   "id": "09517836",
   "metadata": {},
   "outputs": [],
   "source": [
    "u = mdl.binary_var_dict(U, name='u')"
   ]
  },
  {
   "cell_type": "code",
   "execution_count": 25,
   "id": "2c1a41c0",
   "metadata": {},
   "outputs": [],
   "source": [
    "#fac"
   ]
  },
  {
   "cell_type": "code",
   "execution_count": 26,
   "id": "1871bcf8",
   "metadata": {},
   "outputs": [
    {
     "name": "stdout",
     "output_type": "stream",
     "text": [
      "Version identifier: 20.1.0.0 | 2020-11-11 | 9bedb6d68\n",
      "CPXPARAM_Read_DataCheck                          1\n",
      "Tried aggregator 2 times.\n",
      "MIP Presolve eliminated 60 rows and 0 columns.\n",
      "MIP Presolve modified 10 coefficients.\n",
      "Aggregator did 10 substitutions.\n",
      "Reduced MIP has 73 rows, 85 columns, and 220 nonzeros.\n",
      "Reduced MIP has 85 binaries, 0 generals, 0 SOSs, and 0 indicators.\n",
      "Presolve time = 0.00 sec. (0.28 ticks)\n",
      "Found incumbent of value 1932.045480 after 0.00 sec. (0.49 ticks)\n",
      "Probing time = 0.00 sec. (0.06 ticks)\n",
      "Tried aggregator 1 time.\n",
      "Detecting symmetries...\n",
      "Reduced MIP has 73 rows, 85 columns, and 220 nonzeros.\n",
      "Reduced MIP has 85 binaries, 0 generals, 0 SOSs, and 0 indicators.\n",
      "Presolve time = 0.00 sec. (0.16 ticks)\n",
      "Probing time = 0.00 sec. (0.06 ticks)\n",
      "Clique table members: 73.\n",
      "MIP emphasis: balance optimality and feasibility.\n",
      "MIP search method: dynamic search.\n",
      "Parallel mode: deterministic, using up to 16 threads.\n",
      "Root relaxation solution time = 0.00 sec. (0.09 ticks)\n",
      "\n",
      "        Nodes                                         Cuts/\n",
      "   Node  Left     Objective  IInf  Best Integer    Best Bound    ItCnt     Gap\n",
      "\n",
      "*     0+    0                         1932.0455       15.0000            99.22%\n",
      "*     0+    0                          697.8534       15.0000            97.85%\n",
      "*     0+    0                          652.9697       15.0000            97.70%\n",
      "      0     0      596.0430     9      652.9697      596.0430       13    8.72%\n",
      "*     0+    0                          625.5797      596.0430             4.72%\n",
      "      0     0        cutoff            625.5797                     13    0.00%\n",
      "Elapsed time = 0.02 sec. (1.15 ticks, tree = 0.01 MB, solutions = 4)\n",
      "\n",
      "Root node processing (before b&c):\n",
      "  Real time             =    0.02 sec. (1.16 ticks)\n",
      "Parallel b&c, 16 threads:\n",
      "  Real time             =    0.00 sec. (0.00 ticks)\n",
      "  Sync time (average)   =    0.00 sec.\n",
      "  Wait time (average)   =    0.00 sec.\n",
      "                          ------------\n",
      "Total (root+branch&cut) =    0.02 sec. (1.16 ticks)\n"
     ]
    }
   ],
   "source": [
    "build_cost=mdl.sum(S[i,j]*fac[i,j] for i, j in F )\n",
    "trans_cost=mdl.sum(Q[i]*D[i, j]*z[i, j]+1 for i, j in A)\n",
    "disposal_cost = mdl.sum(Q[i]*C[k]*u[i,j,k] for i,j,k in U)\n",
    "mdl.minimize(build_cost+trans_cost+disposal_cost)\n",
    "mdl.add_constraints(mdl.sum(z[i, j] for j in D_fac) == 1 for i in C_site)    # (11)\n",
    "mdl.add_constraints(mdl.sum(fac[i, j] for j in F_type) == 1 for i in D_fac)  # (6)\n",
    "mdl.add_constraints(u[i,j,k] >= fac[j,k] + z[i,j]-1 for i,j,k in U)          # (19)\n",
    "mdl.add_constraints(u[i,j,k] >= 0 for i,j,k in U)                            # (20)\n",
    "mdl.add_constraints(z[i,j] <= mdl.sum(T[i,k]*fac[j,k] for k in F_type) for i in C_site for j in D_fac)   #(12)   \n",
    "solution = mdl.solve(log_output=True)"
   ]
  },
  {
   "cell_type": "code",
   "execution_count": 27,
   "id": "78a0acd4",
   "metadata": {},
   "outputs": [
    {
     "name": "stdout",
     "output_type": "stream",
     "text": [
      "solution for: CDW\n",
      "objective: 625.58\n",
      "z_1_8=1\n",
      "z_2_5=1\n",
      "z_3_6=1\n",
      "fac_4_1=1\n",
      "fac_5_2=1\n",
      "fac_6_1=1\n",
      "fac_7_1=1\n",
      "fac_8_3=1\n",
      "u_1_8_3=1\n",
      "u_2_5_2=1\n",
      "u_3_6_1=1\n",
      "\n"
     ]
    }
   ],
   "source": [
    "print(solution)"
   ]
  },
  {
   "cell_type": "code",
   "execution_count": 28,
   "id": "638c7b11",
   "metadata": {},
   "outputs": [
    {
     "data": {
      "text/plain": [
       "<JobSolveStatus.OPTIMAL_SOLUTION: 2>"
      ]
     },
     "execution_count": 28,
     "metadata": {},
     "output_type": "execute_result"
    }
   ],
   "source": [
    "solution.solve_status"
   ]
  },
  {
   "cell_type": "code",
   "execution_count": 29,
   "id": "cd426c45",
   "metadata": {},
   "outputs": [],
   "source": [
    "active_arcs = [a for a in A if z[a].solution_value > 0.9]"
   ]
  },
  {
   "cell_type": "code",
   "execution_count": 30,
   "id": "9818c5c2",
   "metadata": {},
   "outputs": [
    {
     "data": {
      "text/plain": [
       "(62.49240605225259, 172.2025787386766, 10.38639565153556, 90.6574082255726)"
      ]
     },
     "execution_count": 30,
     "metadata": {},
     "output_type": "execute_result"
    },
    {
     "data": {
      "image/png": "[encoded data removed]",
      "text/plain": [
       "<Figure size 432x288 with 1 Axes>"
      ]
     },
     "metadata": {
      "needs_background": "light"
     },
     "output_type": "display_data"
    }
   ],
   "source": [
    "plt.scatter(loc_x[1:k+1], loc_y[1:k+1], c='b')\n",
    "plt.scatter(loc_x[k+1:k+1+f], loc_y[k+1:k+1+f], c='r')\n",
    "for i in C_site:\n",
    "    plt.annotate('$CS_%d,Q_%d=%d$' % (i, i, Q[i]), (loc_x[i]+2, loc_y[i]))\n",
    "for i in D_fac:\n",
    "    plt.annotate('$DF_%d$' % (i), (loc_x[i]+2, loc_y[i]))\n",
    "for i, j in active_arcs:\n",
    "    plt.plot([loc_x[i], loc_x[j]], [loc_y[i], loc_y[j]], c='g', alpha=0.3)\n",
    "plt.axis('equal')"
   ]
  }
 ],
 "metadata": {
  "kernelspec": {
   "display_name": "Python [conda env:py37]",
   "language": "python",
   "name": "conda-env-py37-py"
  },
  "language_info": {
   "codemirror_mode": {
    "name": "ipython",
    "version": 3
   },
   "file_extension": ".py",
   "mimetype": "text/x-python",
   "name": "python",
   "nbconvert_exporter": "python",
   "pygments_lexer": "ipython3",
   "version": "3.7.4"
  }
 },
 "nbformat": 4,
 "nbformat_minor": 5
}
